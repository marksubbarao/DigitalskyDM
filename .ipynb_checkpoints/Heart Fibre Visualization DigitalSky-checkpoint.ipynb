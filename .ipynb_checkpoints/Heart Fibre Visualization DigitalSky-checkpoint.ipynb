{
 "cells": [
  {
   "cell_type": "markdown",
   "metadata": {},
   "source": [
    "# Fibres in the left ventricle\n",
    "\n",
    "#### A dataset from the September 2015 Data Input and Manipulation Workshop in Bloemfontein South Africa\n",
    "Data descrition from Kevin Sack:\n",
    "\n",
    "These are fibres in the left ventricle - their colour is indicative of the angle the fibres make with the circumferential direction of the heart. (i.e blue points downwards, towards the apex/tip of the heart, and red point upwards, towards the aorta). The complex fibre structure makes for an interesting 3D description.\n",
    "<img src = \"images/fibres.png\"/>"
   ]
  },
  {
   "cell_type": "markdown",
   "metadata": {},
   "source": [
    "## Data Import"
   ]
  },
  {
   "cell_type": "code",
   "execution_count": 3,
   "metadata": {
    "collapsed": false,
    "scrolled": false
   },
   "outputs": [],
   "source": [
    "#Don't really need to use the astronomy package, but...\n",
    "from astropy.table import Table, Column\n",
    "from astropy.io import ascii"
   ]
  },
  {
   "cell_type": "code",
   "execution_count": 4,
   "metadata": {
    "collapsed": false
   },
   "outputs": [],
   "source": [
    "LineTable = ascii.read(\"Fibre_LV_export_TCarr_2015.txt\")"
   ]
  },
  {
   "cell_type": "markdown",
   "metadata": {},
   "source": [
    "The table consists of one line segment per line with an attached color: (x0,y0,z0,x1,y1,z1,(r,g,b)) "
   ]
  },
  {
   "cell_type": "code",
   "execution_count": 5,
   "metadata": {
    "collapsed": false
   },
   "outputs": [
    {
     "data": {
      "text/html": [
       "&lt;Table masked=False length=5145&gt;\n",
       "<table id=\"table183976400\">\n",
       "<thead><tr><th>col1</th><th>col2</th><th>col3</th><th>col4</th><th>col5</th><th>col6</th><th>col7</th></tr></thead>\n",
       "<thead><tr><th>float64</th><th>float64</th><th>float64</th><th>float64</th><th>float64</th><th>float64</th><th>string112</th></tr></thead>\n",
       "<tr><td>-28.6301</td><td>-13.6001</td><td>-17.6625</td><td>-28.6624</td><td>-14.3822</td><td>-17.0403</td><td>1.00 0.78 0.00</td></tr>\n",
       "<tr><td>-0.4986</td><td>-31.9882</td><td>13.4586</td><td>0.2171</td><td>-32.0938</td><td>14.1489</td><td>1.00 0.80 0.00</td></tr>\n",
       "<tr><td>18.2536</td><td>11.7219</td><td>-53.6276</td><td>18.0807</td><td>12.6981</td><td>-53.4965</td><td>0.70 1.00 0.30</td></tr>\n",
       "<tr><td>25.0258</td><td>7.8884</td><td>-50.1305</td><td>24.6911</td><td>8.7785</td><td>-50.4399</td><td>0.00 0.89 1.00</td></tr>\n",
       "<tr><td>-24.9116</td><td>26.4442</td><td>-39.6386</td><td>-25.4163</td><td>25.8142</td><td>-40.2288</td><td>0.00 0.48 1.00</td></tr>\n",
       "<tr><td>-0.6536</td><td>-33.9619</td><td>12.0535</td><td>0.2392</td><td>-34.032</td><td>12.4985</td><td>0.83 1.00 0.17</td></tr>\n",
       "<tr><td>23.4381</td><td>18.0725</td><td>-38.1475</td><td>23.0643</td><td>18.9746</td><td>-37.9316</td><td>0.63 1.00 0.37</td></tr>\n",
       "<tr><td>-35.121</td><td>4.0726</td><td>-23.7402</td><td>-35.2193</td><td>3.1332</td><td>-24.0686</td><td>0.00 0.85 1.00</td></tr>\n",
       "<tr><td>20.4241</td><td>8.9226</td><td>-48.4303</td><td>20.8559</td><td>9.7365</td><td>-48.0416</td><td>1.00 0.63 0.00</td></tr>\n",
       "<tr><td>-13.0956</td><td>16.3854</td><td>-55.8692</td><td>-14.0594</td><td>16.145</td><td>-55.754</td><td>0.74 1.00 0.26</td></tr>\n",
       "<tr><td>...</td><td>...</td><td>...</td><td>...</td><td>...</td><td>...</td><td>...</td></tr>\n",
       "<tr><td>-13.9439</td><td>-8.814</td><td>-66.9563</td><td>-13.258</td><td>-9.4473</td><td>-67.3147</td><td>0.00 0.76 1.00</td></tr>\n",
       "<tr><td>-19.9652</td><td>-25.0949</td><td>9.2505</td><td>-19.557</td><td>-25.6222</td><td>9.9957</td><td>1.00 0.70 0.00</td></tr>\n",
       "<tr><td>-37.1879</td><td>23.0216</td><td>14.2781</td><td>-37.7274</td><td>22.2196</td><td>14.0217</td><td>0.00 0.93 1.00</td></tr>\n",
       "<tr><td>28.6086</td><td>-3.1006</td><td>1.3785</td><td>28.9309</td><td>-2.5417</td><td>2.1426</td><td>1.00 0.61 0.00</td></tr>\n",
       "<tr><td>-3.0493</td><td>37.7408</td><td>13.5352</td><td>-4.0322</td><td>37.6846</td><td>13.7105</td><td>0.48 1.00 0.52</td></tr>\n",
       "<tr><td>-28.873</td><td>27.3652</td><td>-10.7713</td><td>-29.5521</td><td>26.6679</td><td>-11.0006</td><td>0.00 0.98 1.00</td></tr>\n",
       "<tr><td>-4.825</td><td>33.8798</td><td>14.3896</td><td>-5.4375</td><td>33.9113</td><td>15.1794</td><td>1.00 0.61 0.00</td></tr>\n",
       "<tr><td>-31.1056</td><td>28.5563</td><td>-9.439</td><td>-31.6697</td><td>27.9453</td><td>-9.9945</td><td>0.00 0.52 1.00</td></tr>\n",
       "<tr><td>-35.75</td><td>21.7871</td><td>13.1683</td><td>-36.2883</td><td>20.9465</td><td>13.2281</td><td>0.33 1.00 0.67</td></tr>\n",
       "<tr><td>7.6789</td><td>-42.3796</td><td>-20.2235</td><td>8.5828</td><td>-42.1962</td><td>-20.6099</td><td>0.00 0.76 1.00</td></tr>\n",
       "</table>"
      ],
      "text/plain": [
       "<Table masked=False length=5145>\n",
       "  col1     col2     col3     col4     col5     col6        col7     \n",
       "float64  float64  float64  float64  float64  float64    string112   \n",
       "-------- -------- -------- -------- -------- -------- --------------\n",
       "-28.6301 -13.6001 -17.6625 -28.6624 -14.3822 -17.0403 1.00 0.78 0.00\n",
       " -0.4986 -31.9882  13.4586   0.2171 -32.0938  14.1489 1.00 0.80 0.00\n",
       " 18.2536  11.7219 -53.6276  18.0807  12.6981 -53.4965 0.70 1.00 0.30\n",
       " 25.0258   7.8884 -50.1305  24.6911   8.7785 -50.4399 0.00 0.89 1.00\n",
       "-24.9116  26.4442 -39.6386 -25.4163  25.8142 -40.2288 0.00 0.48 1.00\n",
       " -0.6536 -33.9619  12.0535   0.2392  -34.032  12.4985 0.83 1.00 0.17\n",
       " 23.4381  18.0725 -38.1475  23.0643  18.9746 -37.9316 0.63 1.00 0.37\n",
       " -35.121   4.0726 -23.7402 -35.2193   3.1332 -24.0686 0.00 0.85 1.00\n",
       " 20.4241   8.9226 -48.4303  20.8559   9.7365 -48.0416 1.00 0.63 0.00\n",
       "-13.0956  16.3854 -55.8692 -14.0594   16.145  -55.754 0.74 1.00 0.26\n",
       "     ...      ...      ...      ...      ...      ...            ...\n",
       "-13.9439   -8.814 -66.9563  -13.258  -9.4473 -67.3147 0.00 0.76 1.00\n",
       "-19.9652 -25.0949   9.2505  -19.557 -25.6222   9.9957 1.00 0.70 0.00\n",
       "-37.1879  23.0216  14.2781 -37.7274  22.2196  14.0217 0.00 0.93 1.00\n",
       " 28.6086  -3.1006   1.3785  28.9309  -2.5417   2.1426 1.00 0.61 0.00\n",
       " -3.0493  37.7408  13.5352  -4.0322  37.6846  13.7105 0.48 1.00 0.52\n",
       " -28.873  27.3652 -10.7713 -29.5521  26.6679 -11.0006 0.00 0.98 1.00\n",
       "  -4.825  33.8798  14.3896  -5.4375  33.9113  15.1794 1.00 0.61 0.00\n",
       "-31.1056  28.5563   -9.439 -31.6697  27.9453  -9.9945 0.00 0.52 1.00\n",
       "  -35.75  21.7871  13.1683 -36.2883  20.9465  13.2281 0.33 1.00 0.67\n",
       "  7.6789 -42.3796 -20.2235   8.5828 -42.1962 -20.6099 0.00 0.76 1.00"
      ]
     },
     "execution_count": 5,
     "metadata": {},
     "output_type": "execute_result"
    }
   ],
   "source": [
    "LineTable"
   ]
  },
  {
   "cell_type": "markdown",
   "metadata": {},
   "source": [
    "## DigitalSky Visualization\n",
    "\n",
    "There are various ways to visualize sets of lines on DigitalSky\n",
    "1. As a 3D model\n",
    "2. As a [.vla](http://paulbourke.net/dataformats/vla/) file\n",
    "3. As a partiview mesh object\n",
    "\n",
    "Building a 3D model is cumbersome and makes the data difficult to modify, so we won't do that.\n",
    "\n",
    "The .vla file is nice, however the format only allows you to provide intensities rather than individual colors to the line segments. This is an artifact of the fact that the format dates back to the days of monochrome vector displays.\n",
    "\n",
    "We'll construct the visualization using the partiview style mesh. The mesh objects are rectangular grids with the vertices displaced. We'll draw each line segment as a a 1x2 rectangular mesh rendered as a wireframe, like this:\n",
    "\n",
    "    mesh -c 2 -s wire {\n",
    "      1 2\n",
    "      -0.4986 -31.9882  13.4586 \n",
    "      0.2171 -32.0938  14.1489 \n",
    "    }\n",
    "\n",
    "These mesh blocks can be chained together in the .speck file\n"
   ]
  },
  {
   "cell_type": "code",
   "execution_count": 12,
   "metadata": {
    "collapsed": true
   },
   "outputs": [],
   "source": [
    "writefile=open('Fibre_LV.speck',\"w\")\n",
    "i=0\n",
    "for Line in LineTable:\n",
    "    writefile.write(\"mesh -c %d -s wire {\\n\" % i)\n",
    "    writefile.write(\"1 2\\n\")\n",
    "    writefile.write(\"%8.4f %8.4f %8.4f \\n\" % (Line[0],Line[1],Line[2]))\n",
    "    writefile.write(\"%8.4f %8.4f %8.4f \\n\" % (Line[3],Line[4],Line[5]))\n",
    "    writefile.write(\"}\\n\")\n",
    "    i=i+1\n",
    "writeFile.close"
   ]
  },
  {
   "cell_type": "markdown",
   "metadata": {},
   "source": [
    "It turns out the colormap scheme we've tried below isn't working. DigitalSky seems to only support approximately 100  colors in the .cmap file. The better wat to have done it would be to apply a colormap directly with alpha_h. Requesting a new data file from Tim Carr"
   ]
  },
  {
   "cell_type": "code",
   "execution_count": 25,
   "metadata": {
    "collapsed": false
   },
   "outputs": [],
   "source": [
    "writefile=open('Fibre_LV.cmap',\"w\")\n",
    "writeFile.write(\"%d\\n\" % len(LineTable))\n",
    "for Line in LineTable:\n",
    "    writefile.write(\"%s \\n\" % Line[6])\n",
    "writeFile.close()"
   ]
  },
  {
   "cell_type": "code",
   "execution_count": null,
   "metadata": {
    "collapsed": true
   },
   "outputs": [],
   "source": []
  }
 ],
 "metadata": {
  "kernelspec": {
   "display_name": "Python 2",
   "language": "python",
   "name": "python2"
  },
  "language_info": {
   "codemirror_mode": {
    "name": "ipython",
    "version": 2
   },
   "file_extension": ".py",
   "mimetype": "text/x-python",
   "name": "python",
   "nbconvert_exporter": "python",
   "pygments_lexer": "ipython2",
   "version": "2.7.6"
  }
 },
 "nbformat": 4,
 "nbformat_minor": 0
}
