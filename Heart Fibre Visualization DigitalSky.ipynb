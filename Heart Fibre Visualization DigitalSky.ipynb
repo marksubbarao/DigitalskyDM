{
 "cells": [
  {
   "cell_type": "markdown",
   "metadata": {},
   "source": [
    "# Fibres in the left ventricle\n",
    "\n",
    "#### A dataset from the September 2015 Data Input and Manipulation Workshop in Bloemfontein South Africa\n",
    "Data descrition from Kevin Sack:\n",
    "\n",
    "These are fibres in the left ventricle - their colour is indicative of the angle the fibres make with the circumferential direction of the heart. (i.e blue points downwards, towards the apex/tip of the heart, and red point upwards, towards the aorta). The complex fibre structure makes for an interesting 3D description.\n"
   ]
  },
  {
   "cell_type": "markdown",
   "metadata": {},
   "source": [
    "## Data Import"
   ]
  },
  {
   "cell_type": "code",
   "execution_count": 3,
   "metadata": {
    "collapsed": false,
    "scrolled": false
   },
   "outputs": [],
   "source": [
    "#Don't really need to use the astronomy package, but...\n",
    "from astropy.table import Table, Column\n",
    "from astropy.io import ascii"
   ]
  },
  {
   "cell_type": "code",
   "execution_count": 4,
   "metadata": {
    "collapsed": false
   },
   "outputs": [],
   "source": [
    "LineTable = ascii.read(\"Fibre_LV_export_TCarr_2015.txt\")"
   ]
  },
  {
   "cell_type": "markdown",
   "metadata": {},
   "source": [
    "The table consists of one line segment per line with an attached color: (x0,y0,z0,x1,y1,z1,(r,g,b)) "
   ]
  },
  {
   "cell_type": "markdown",
   "metadata": {},
   "source": [
    "## DigitalSky Visualization\n",
    "\n",
    "There are various ways to visualize sets of lines on DigitalSky\n",
    "1. As a 3D model\n",
    "2. As a [.vla](http://paulbourke.net/dataformats/vla/) file\n",
    "3. As a partiview mesh object\n",
    "\n",
    "Building a 3D model is cumbersome and makes the data difficult to modify, so we won't do that.\n",
    "\n",
    "The .vla file is nice, however the format only allows you to provide intensities rather than individual colors to the line segments. This is an artifact of the fact that the format dates back to the days of monochrome vector displays.\n",
    "\n",
    "We'll construct the visualization using the partiview style mesh. The mesh objects are rectangular grids with the vertices displaced. We'll draw each line segment as a a 1x2 rectangular mesh rendered as a wireframe, like this:\n",
    "\n",
    "    mesh -c 2 -s wire {\n",
    "      1 2\n",
    "      -0.4986 -31.9882  13.4586 \n",
    "      0.2171 -32.0938  14.1489 \n",
    "    }\n",
    "\n",
    "These mesh blocks can be chained together in the .speck file\n"
   ]
  },
  {
   "cell_type": "code",
   "execution_count": 12,
   "metadata": {
    "collapsed": true
   },
   "outputs": [],
   "source": [
    "writefile=open('Fibre_LV.speck',\"w\")\n",
    "i=0\n",
    "for Line in LineTable:\n",
    "    writefile.write(\"mesh -c %d -s wire {\\n\" % i)\n",
    "    writefile.write(\"1 2\\n\")\n",
    "    writefile.write(\"%8.4f %8.4f %8.4f \\n\" % (Line[0],Line[1],Line[2]))\n",
    "    writefile.write(\"%8.4f %8.4f %8.4f \\n\" % (Line[3],Line[4],Line[5]))\n",
    "    writefile.write(\"}\\n\")\n",
    "    i=i+1\n",
    "writeFile.close"
   ]
  },
  {
   "cell_type": "markdown",
   "metadata": {},
   "source": [
    "It turns out the colormap scheme we've tried below isn't working. DigitalSky seems to only support approximately 100  colors in the .cmap file. The better wat to have done it would be to apply a colormap directly with alpha_h. Requesting a new data file from Tim Carr"
   ]
  },
  {
   "cell_type": "code",
   "execution_count": 25,
   "metadata": {
    "collapsed": false
   },
   "outputs": [],
   "source": [
    "writefile=open('Fibre_LV.cmap',\"w\")\n",
    "writeFile.write(\"%d\\n\" % len(LineTable))\n",
    "for Line in LineTable:\n",
    "    writefile.write(\"%s \\n\" % Line[6])\n",
    "writeFile.close()"
   ]
  },
  {
   "cell_type": "code",
   "execution_count": null,
   "metadata": {
    "collapsed": true
   },
   "outputs": [],
   "source": []
  }
 ],
 "metadata": {
  "kernelspec": {
   "display_name": "Python 2",
   "language": "python",
   "name": "python2"
  },
  "language_info": {
   "codemirror_mode": {
    "name": "ipython",
    "version": 2
   },
   "file_extension": ".py",
   "mimetype": "text/x-python",
   "name": "python",
   "nbconvert_exporter": "python",
   "pygments_lexer": "ipython2",
   "version": "2.7.6"
  }
 },
 "nbformat": 4,
 "nbformat_minor": 0
}
